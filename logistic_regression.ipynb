{
 "cells": [
  {
   "cell_type": "code",
   "execution_count": 1,
   "metadata": {},
   "outputs": [],
   "source": [
    "import numpy as np\n",
    "import matplotlib.pyplot as plt\n",
    "import copy\n",
    "import math"
   ]
  },
  {
   "cell_type": "code",
   "execution_count": 2,
   "metadata": {},
   "outputs": [],
   "source": [
    "X_train = np.array([\n",
    "    [2, 60], \n",
    "    [3, 70], \n",
    "    [5, 80], \n",
    "    [1, 50], \n",
    "    [4, 85], \n",
    "    [6, 90], \n",
    "    [2, 55], \n",
    "    [7, 95], \n",
    "    [3, 65], \n",
    "    [8, 100]\n",
    "])\n",
    "y_train = np.array([0, 0, 1, 0, 1, 1, 0, 1, 0, 1])"
   ]
  },
  {
   "cell_type": "code",
   "execution_count": 3,
   "metadata": {},
   "outputs": [
    {
     "name": "stdout",
     "output_type": "stream",
     "text": [
      "Positive inputs : \n",
      " [[  5.  80.]\n",
      " [  4.  85.]\n",
      " [  6.  90.]\n",
      " [  7.  95.]\n",
      " [  8. 100.]]\n",
      "Negative inputs : \n",
      " [[ 2. 60.]\n",
      " [ 3. 70.]\n",
      " [ 1. 50.]\n",
      " [ 2. 55.]\n",
      " [ 3. 65.]]\n"
     ]
    }
   ],
   "source": [
    "m, n = X_train.shape\n",
    "positive = np.zeros((m, n))\n",
    "negative = np.zeros((m, n))\n",
    "\n",
    "for i in range(m):\n",
    "    for j in range(n):\n",
    "        if y_train[i] == 1:\n",
    "            positive[i, j] = X_train[i, j]\n",
    "        elif y_train[i] == 0:\n",
    "            negative[i, j] = X_train[i, j]\n",
    "\n",
    "X_positive = positive[~np.all(positive == 0, axis=1)]\n",
    "X_negative = negative[~np.all(negative == 0, axis=1)]\n",
    "\n",
    "print(\"Positive inputs : \\n\", X_positive)\n",
    "print(\"Negative inputs : \\n\", X_negative)\n",
    "\n"
   ]
  },
  {
   "cell_type": "code",
   "execution_count": 4,
   "metadata": {},
   "outputs": [
    {
     "data": {
      "image/png": "[encoded data removed]",
      "text/plain": [
       "<Figure size 640x480 with 1 Axes>"
      ]
     },
     "metadata": {},
     "output_type": "display_data"
    }
   ],
   "source": [
    "plt.scatter(X_positive[:, 0], X_positive[:, 1], marker=\"o\", c=\"b\", label=\"Lulus\")\n",
    "plt.scatter(X_negative[:, 0], X_negative[:, 1], marker=\"x\", c=\"r\", label=\"Tidak Lulus\")\n",
    "plt.legend()\n",
    "plt.xlabel(\"Jam Belajar\")\n",
    "plt.ylabel(\"Kehadiran (%)\")\n",
    "plt.show()\n"
   ]
  },
  {
   "cell_type": "code",
   "execution_count": 5,
   "metadata": {},
   "outputs": [],
   "source": [
    "def sigmoid(z):\n",
    "    g = 1 / (1 + np.exp(-z))\n",
    "\n",
    "    return g"
   ]
  },
  {
   "cell_type": "code",
   "execution_count": 6,
   "metadata": {},
   "outputs": [
    {
     "name": "stdout",
     "output_type": "stream",
     "text": [
      "sigmoid(5) = 0.9933071490757153\n"
     ]
    }
   ],
   "source": [
    "number = 5\n",
    "print(f\"sigmoid({number}) = {sigmoid(number)}\")"
   ]
  },
  {
   "cell_type": "code",
   "execution_count": 7,
   "metadata": {},
   "outputs": [],
   "source": [
    "def compute_cost(X, y, w, b):\n",
    "    m = X.shape[0]\n",
    "    loss_sum = 0\n",
    "\n",
    "    for i in range(m):\n",
    "        z = np.dot(X[i], w) + b\n",
    "        f_wb = sigmoid(z)\n",
    "        loss = -y[i] * np.log(f_wb) - (1 - y[i]) * np.log(1 - f_wb)\n",
    "        loss_sum += loss\n",
    "    \n",
    "    total_cost = loss_sum / m\n",
    "\n",
    "    return total_cost"
   ]
  },
  {
   "cell_type": "code",
   "execution_count": 8,
   "metadata": {},
   "outputs": [
    {
     "name": "stdout",
     "output_type": "stream",
     "text": [
      "cost at initial w, b (zeros) =  0.6931471805599453\n"
     ]
    }
   ],
   "source": [
    "n = X_train.shape[1]\n",
    "init_w = np.zeros(n)\n",
    "init_b = 0\n",
    "\n",
    "cost = compute_cost(X_train, y_train, init_w, init_b)\n",
    "print(\"cost at initial w, b (zeros) = \", cost)"
   ]
  },
  {
   "cell_type": "code",
   "execution_count": 9,
   "metadata": {},
   "outputs": [],
   "source": [
    "def compute_gradient(X, y, w, b):\n",
    "    m, n = X.shape\n",
    "    dj_dw = np.zeros(w.shape)\n",
    "    dj_db = 0\n",
    "\n",
    "    for i in range(m):\n",
    "        z = np.dot(X[i], w) + b\n",
    "        f_wb = sigmoid(z)\n",
    "        dj_db_i = f_wb - y[i]\n",
    "        dj_db += dj_db_i\n",
    "\n",
    "        for j in range(n):\n",
    "            dj_dw[j] = (f_wb - y[i]) * X[i, j]\n",
    "            dj_dw += dj_dw[j]\n",
    "\n",
    "    dj_dw = dj_dw / m\n",
    "    dj_db = dj_db / m\n",
    "\n",
    "    return dj_dw, dj_db"
   ]
  },
  {
   "cell_type": "code",
   "execution_count": 10,
   "metadata": {},
   "outputs": [
    {
     "name": "stdout",
     "output_type": "stream",
     "text": [
      "dj_dw at initial w, b (zeros) =  [ -5.8 -10. ]\n",
      "dj_db at initial w, b (zeros) =  0.0\n"
     ]
    }
   ],
   "source": [
    "dj_dw_tmp, dj_db_tmp = compute_gradient(X_train, y_train, init_w, init_b)\n",
    "print(\"dj_dw at initial w, b (zeros) = \", dj_dw_tmp)\n",
    "print(\"dj_db at initial w, b (zeros) = \", dj_db_tmp)"
   ]
  },
  {
   "cell_type": "code",
   "execution_count": 11,
   "metadata": {},
   "outputs": [],
   "source": [
    "def gradient_descent(X, y, w_in, b_in, cost_f, gradient_f, alpha, iters):\n",
    "    w = copy.deepcopy(w_in)\n",
    "    b = b_in\n",
    "    J_history = []\n",
    "\n",
    "    for i in range(1, iters+1):\n",
    "        dj_dw, dj_db = gradient_f(X, y, w, b)\n",
    "        w = w - alpha * dj_dw\n",
    "        b = b - alpha * dj_db\n",
    "\n",
    "        if i < 100000:\n",
    "            cost = cost_f(X, y, w, b)\n",
    "            J_history.append(cost)\n",
    "\n",
    "        if i % math.ceil(iters/10) == 0:\n",
    "            print(f\"Iteration {i:4d}: Cost {J_history[-1]:8.2f}\")\n",
    "\n",
    "    return w, b, J_history\n"
   ]
  },
  {
   "cell_type": "code",
   "execution_count": 12,
   "metadata": {},
   "outputs": [
    {
     "name": "stdout",
     "output_type": "stream",
     "text": [
      "Iteration 6000: Cost     0.04\n",
      "Iteration 12000: Cost     0.03\n",
      "Iteration 18000: Cost     0.02\n",
      "Iteration 24000: Cost     0.02\n",
      "Iteration 30000: Cost     0.02\n",
      "Iteration 36000: Cost     0.02\n",
      "Iteration 42000: Cost     0.02\n",
      "Iteration 48000: Cost     0.02\n",
      "Iteration 54000: Cost     0.01\n",
      "Iteration 60000: Cost     0.01\n",
      "w, b after gradient descent:  [0.28391119 0.48950205] -37.67131456992253\n"
     ]
    }
   ],
   "source": [
    "alpha = 0.03\n",
    "iterations = 60000\n",
    "\n",
    "w, b, _ = gradient_descent(\n",
    "    X_train,\n",
    "    y_train,\n",
    "    init_w,\n",
    "    init_b,\n",
    "    compute_cost,\n",
    "    compute_gradient,\n",
    "    alpha,\n",
    "    iterations)\n",
    "\n",
    "print(\"w, b after gradient descent: \", w, b)"
   ]
  },
  {
   "cell_type": "code",
   "execution_count": 13,
   "metadata": {},
   "outputs": [
    {
     "name": "stdout",
     "output_type": "stream",
     "text": [
      "prediction: 0, target value: 0\n",
      "prediction: 0, target value: 0\n",
      "prediction: 1, target value: 1\n",
      "prediction: 0, target value: 0\n",
      "prediction: 1, target value: 1\n",
      "prediction: 1, target value: 1\n",
      "prediction: 0, target value: 0\n",
      "prediction: 1, target value: 1\n",
      "prediction: 0, target value: 0\n",
      "prediction: 1, target value: 1\n"
     ]
    }
   ],
   "source": [
    "m = X_train.shape[0]\n",
    "y_hat = np.zeros(m)\n",
    "\n",
    "for i in range(m):\n",
    "    z = np.dot(X_train[i], w) + b\n",
    "    f_wb = sigmoid(z)\n",
    "    y_hat[i] = 1 if f_wb >= 0.5 else 0\n",
    "    print(f\"prediction: {int(y_hat[i])}, target value: {y_train[i]}\")"
   ]
  },
  {
   "cell_type": "code",
   "execution_count": 14,
   "metadata": {},
   "outputs": [
    {
     "name": "stdout",
     "output_type": "stream",
     "text": [
      "Siswa dengan waktu belajar 4 jam dan 60% kehadiran\n",
      "Prediksi Kelulusan Siswa :  Tidak Lulus\n"
     ]
    }
   ],
   "source": [
    "X_test = np.array([4, 60])\n",
    "z = np.dot(X_test, w) + b\n",
    "y_pred = \"Lulus\" if sigmoid(z) >= 0.5 else \"Tidak Lulus\"\n",
    "print(f\"Siswa dengan waktu belajar {X_test[0]} jam dan {X_test[1]}% kehadiran\")\n",
    "print(\"Prediksi Kelulusan Siswa : \", y_pred)"
   ]
  }
 ],
 "metadata": {
  "kernelspec": {
   "display_name": "Python 3",
   "language": "python",
   "name": "python3"
  },
  "language_info": {
   "codemirror_mode": {
    "name": "ipython",
    "version": 3
   },
   "file_extension": ".py",
   "mimetype": "text/x-python",
   "name": "python",
   "nbconvert_exporter": "python",
   "pygments_lexer": "ipython3",
   "version": "3.12.6"
  }
 },
 "nbformat": 4,
 "nbformat_minor": 2
}
